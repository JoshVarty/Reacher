{
 "cells": [
  {
   "cell_type": "markdown",
   "metadata": {},
   "source": [
    "## Continuous Control: Reacher"
   ]
  },
  {
   "cell_type": "code",
   "execution_count": 5,
   "metadata": {},
   "outputs": [],
   "source": [
    "from unityagents import UnityEnvironment\n",
    "import numpy as np\n",
    "from collections import deque\n",
    "import matplotlib.pyplot as plt\n",
    "import torch\n",
    "from agent import Agent\n",
    "from model import ActorCriticNetwork"
   ]
  },
  {
   "cell_type": "code",
   "execution_count": null,
   "metadata": {},
   "outputs": [],
   "source": [
    "#load the reacher environment \n",
    "env = UnityEnvironment(file_name='Reacher_Linux_NoVis/Reacher.x86_64', worker_id=1)"
   ]
  },
  {
   "cell_type": "code",
   "execution_count": 7,
   "metadata": {},
   "outputs": [
    {
     "name": "stdout",
     "output_type": "stream",
     "text": [
      "Number of agents: 20\n",
      "Size of each action: 4\n",
      "Size of each state: 33\n"
     ]
    }
   ],
   "source": [
    "# get the default brain\n",
    "brain_name = env.brain_names[0]\n",
    "brain = env.brains[brain_name]\n",
    "\n",
    "# reset the environment\n",
    "env_info = env.reset(train_mode=True)[brain_name]\n",
    "\n",
    "# number of agents\n",
    "num_agents = len(env_info.agents)\n",
    "print('Number of agents:', num_agents)\n",
    "\n",
    "# size of each action\n",
    "action_size = brain.vector_action_space_size\n",
    "print('Size of each action:', action_size)\n",
    "\n",
    "# size of each state\n",
    "state_size = brain.vector_observation_space_size\n",
    "print('Size of each state:', state_size)"
   ]
  },
  {
   "cell_type": "code",
   "execution_count": 8,
   "metadata": {},
   "outputs": [
    {
     "name": "stdout",
     "output_type": "stream",
     "text": [
      "Average score: 1.646079963207245 at: 25\n",
      "Average score: 3.6543599183186886 at: 50\n",
      "Average score: 5.340286547301957 at: 75\n",
      "Average score: 6.606604852330872 at: 100\n",
      "Average score: 9.133724795845337 at: 125\n",
      "Average score: 11.209229749454185 at: 150\n",
      "Average score: 12.94697471061256 at: 175\n",
      "Average score: 14.687704671704212 at: 200\n",
      "Average score: 16.514739630866796 at: 225\n",
      "Average score: 18.413609588423746 at: 250\n",
      "Average score: 20.539579540904615 at: 275\n",
      "Average score: 22.653689493650567 at: 300\n",
      "Average score: 25.01883444078546 at: 325\n",
      "Average score: 27.15377939306572 at: 350\n",
      "Average score: 29.00508935168572 at: 375\n",
      "\n",
      "Environment solved in 289 episodes!\tAverage Score: 30.04\n"
     ]
    }
   ],
   "source": [
    "def a2c(agent, num_agents, num_episodes=400):\n",
    "\n",
    "    all_scores = []\n",
    "    scores_window = deque(maxlen=100)\n",
    "\n",
    "    for i_episode in range(1, num_episodes + 1):\n",
    "\n",
    "        avg_score = agent.step()\n",
    "        scores_window.append(avg_score)\n",
    "        all_scores.append(avg_score)\n",
    "\n",
    "        if i_episode % 25 == 0:\n",
    "            print(\"Average score:\", np.mean(scores_window), \"at:\", i_episode)\n",
    "\n",
    "        if np.mean(scores_window) >= 30.0:\n",
    "            print('\\nEnvironment solved in {:d} episodes!\\tAverage Score: {:.2f}'.format(i_episode-100, np.mean(scores_window)))\n",
    "            torch.save(agent.network.state_dict(), 'solution.ckpt')\n",
    "            break\n",
    "\n",
    "    return all_scores\n",
    "\n",
    "\n",
    "#build networks\n",
    "agent = Agent(env, brain_name, num_agents, state_size, action_size)\n",
    "scores = a2c(agent, num_agents)"
   ]
  },
  {
   "cell_type": "code",
   "execution_count": 11,
   "metadata": {},
   "outputs": [
    {
     "data": {
      "image/png": "[encoded data removed]",
      "text/plain": [
       "<Figure size 432x288 with 1 Axes>"
      ]
     },
     "metadata": {
      "needs_background": "light"
     },
     "output_type": "display_data"
    }
   ],
   "source": [
    "# plot the scores\n",
    "fig = plt.figure()\n",
    "ax = fig.add_subplot(111)\n",
    "plt.plot(np.arange(len(scores)), scores)\n",
    "plt.ylabel('Score')\n",
    "plt.xlabel('Episode #')\n",
    "plt.show()\n"
   ]
  }
 ],
 "metadata": {
  "kernelspec": {
   "display_name": "Python 3",
   "language": "python",
   "name": "python3"
  },
  "language_info": {
   "codemirror_mode": {
    "name": "ipython",
    "version": 3
   },
   "file_extension": ".py",
   "mimetype": "text/x-python",
   "name": "python",
   "nbconvert_exporter": "python",
   "pygments_lexer": "ipython3",
   "version": "3.6.6"
  }
 },
 "nbformat": 4,
 "nbformat_minor": 2
}
